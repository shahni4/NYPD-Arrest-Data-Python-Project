{
 "cells": [
  {
   "cell_type": "code",
   "execution_count": 1,
   "metadata": {},
   "outputs": [],
   "source": [
    "import pandas as pd\n",
    "import os\n",
    "import numpy as np\n",
    "import matplotlib.pyplot as plt\n",
    "import seaborn as sns\n",
    "%matplotlib inline"
   ]
  },
  {
   "cell_type": "code",
   "execution_count": 2,
   "metadata": {},
   "outputs": [
    {
     "data": {
      "text/plain": [
       "'C:\\\\Users\\\\NiShah'"
      ]
     },
     "execution_count": 2,
     "metadata": {},
     "output_type": "execute_result"
    }
   ],
   "source": [
    "pwd"
   ]
  },
  {
   "cell_type": "code",
   "execution_count": 3,
   "metadata": {},
   "outputs": [],
   "source": [
    "#importing csv file from desktop folder where saved\n",
    "df = pd.read_csv(r\"C:/Users/NiShah/OneDrive - Healthfirst/Desktop/2021 Audits/LGCC Data Analytics/Python Assignment 3 - NYPD Arrest Data/NYPD_Arrest_Data__Year_to_Date.csv\")"
   ]
  },
  {
   "cell_type": "code",
   "execution_count": 4,
   "metadata": {},
   "outputs": [
    {
     "data": {
      "text/html": [
       "<div>\n",
       "<style scoped>\n",
       "    .dataframe tbody tr th:only-of-type {\n",
       "        vertical-align: middle;\n",
       "    }\n",
       "\n",
       "    .dataframe tbody tr th {\n",
       "        vertical-align: top;\n",
       "    }\n",
       "\n",
       "    .dataframe thead th {\n",
       "        text-align: right;\n",
       "    }\n",
       "</style>\n",
       "<table border=\"1\" class=\"dataframe\">\n",
       "  <thead>\n",
       "    <tr style=\"text-align: right;\">\n",
       "      <th></th>\n",
       "      <th>ARREST_KEY</th>\n",
       "      <th>ARREST_DATE</th>\n",
       "      <th>PD_CD</th>\n",
       "      <th>PD_DESC</th>\n",
       "      <th>KY_CD</th>\n",
       "      <th>OFNS_DESC</th>\n",
       "      <th>LAW_CODE</th>\n",
       "      <th>LAW_CAT_CD</th>\n",
       "      <th>ARREST_BORO</th>\n",
       "      <th>ARREST_PRECINCT</th>\n",
       "      <th>JURISDICTION_CODE</th>\n",
       "      <th>AGE_GROUP</th>\n",
       "      <th>PERP_SEX</th>\n",
       "      <th>PERP_RACE</th>\n",
       "      <th>X_COORD_CD</th>\n",
       "      <th>Y_COORD_CD</th>\n",
       "      <th>Latitude</th>\n",
       "      <th>Longitude</th>\n",
       "      <th>New Georeferenced Column</th>\n",
       "    </tr>\n",
       "  </thead>\n",
       "  <tbody>\n",
       "    <tr>\n",
       "      <th>0</th>\n",
       "      <td>238013474</td>\n",
       "      <td>12/18/2021</td>\n",
       "      <td>157.0</td>\n",
       "      <td>RAPE 1</td>\n",
       "      <td>104.0</td>\n",
       "      <td>RAPE</td>\n",
       "      <td>PL 1303501</td>\n",
       "      <td>F</td>\n",
       "      <td>Q</td>\n",
       "      <td>105</td>\n",
       "      <td>97</td>\n",
       "      <td>18-24</td>\n",
       "      <td>M</td>\n",
       "      <td>BLACK</td>\n",
       "      <td>1057636</td>\n",
       "      <td>203954</td>\n",
       "      <td>40.726187</td>\n",
       "      <td>-73.735234</td>\n",
       "      <td>POINT (-73.73523390399998 40.72618713000002)</td>\n",
       "    </tr>\n",
       "    <tr>\n",
       "      <th>1</th>\n",
       "      <td>236943583</td>\n",
       "      <td>11/25/2021</td>\n",
       "      <td>263.0</td>\n",
       "      <td>ARSON 2,3,4</td>\n",
       "      <td>114.0</td>\n",
       "      <td>ARSON</td>\n",
       "      <td>PL 1501500</td>\n",
       "      <td>F</td>\n",
       "      <td>K</td>\n",
       "      <td>69</td>\n",
       "      <td>71</td>\n",
       "      <td>25-44</td>\n",
       "      <td>M</td>\n",
       "      <td>BLACK</td>\n",
       "      <td>1014340</td>\n",
       "      <td>171320</td>\n",
       "      <td>40.636868</td>\n",
       "      <td>-73.891586</td>\n",
       "      <td>POINT (-73.89158591899997 40.63686750900007)</td>\n",
       "    </tr>\n",
       "    <tr>\n",
       "      <th>2</th>\n",
       "      <td>234938876</td>\n",
       "      <td>10/14/2021</td>\n",
       "      <td>594.0</td>\n",
       "      <td>OBSCENITY 1</td>\n",
       "      <td>116.0</td>\n",
       "      <td>SEX CRIMES</td>\n",
       "      <td>PL 2631100</td>\n",
       "      <td>F</td>\n",
       "      <td>K</td>\n",
       "      <td>61</td>\n",
       "      <td>0</td>\n",
       "      <td>25-44</td>\n",
       "      <td>M</td>\n",
       "      <td>WHITE</td>\n",
       "      <td>995244</td>\n",
       "      <td>155739</td>\n",
       "      <td>40.594145</td>\n",
       "      <td>-73.960415</td>\n",
       "      <td>POINT (-73.96041495199995 40.59414516900005)</td>\n",
       "    </tr>\n",
       "    <tr>\n",
       "      <th>3</th>\n",
       "      <td>234788259</td>\n",
       "      <td>10/11/2021</td>\n",
       "      <td>263.0</td>\n",
       "      <td>ARSON 2,3,4</td>\n",
       "      <td>114.0</td>\n",
       "      <td>ARSON</td>\n",
       "      <td>PL 1501001</td>\n",
       "      <td>F</td>\n",
       "      <td>B</td>\n",
       "      <td>42</td>\n",
       "      <td>71</td>\n",
       "      <td>18-24</td>\n",
       "      <td>M</td>\n",
       "      <td>BLACK</td>\n",
       "      <td>1009058</td>\n",
       "      <td>239616</td>\n",
       "      <td>40.824340</td>\n",
       "      <td>-73.910365</td>\n",
       "      <td>POINT (-73.91036538099996 40.82433953100008)</td>\n",
       "    </tr>\n",
       "    <tr>\n",
       "      <th>4</th>\n",
       "      <td>234188790</td>\n",
       "      <td>9/28/2021</td>\n",
       "      <td>578.0</td>\n",
       "      <td>NaN</td>\n",
       "      <td>NaN</td>\n",
       "      <td>NaN</td>\n",
       "      <td>PL 2223001</td>\n",
       "      <td>M</td>\n",
       "      <td>B</td>\n",
       "      <td>44</td>\n",
       "      <td>0</td>\n",
       "      <td>25-44</td>\n",
       "      <td>M</td>\n",
       "      <td>BLACK</td>\n",
       "      <td>1005169</td>\n",
       "      <td>246667</td>\n",
       "      <td>40.843703</td>\n",
       "      <td>-73.924395</td>\n",
       "      <td>POINT (-73.92439508899997 40.84370255600004)</td>\n",
       "    </tr>\n",
       "  </tbody>\n",
       "</table>\n",
       "</div>"
      ],
      "text/plain": [
       "   ARREST_KEY ARREST_DATE  PD_CD      PD_DESC  KY_CD   OFNS_DESC    LAW_CODE  \\\n",
       "0   238013474  12/18/2021  157.0       RAPE 1  104.0        RAPE  PL 1303501   \n",
       "1   236943583  11/25/2021  263.0  ARSON 2,3,4  114.0       ARSON  PL 1501500   \n",
       "2   234938876  10/14/2021  594.0  OBSCENITY 1  116.0  SEX CRIMES  PL 2631100   \n",
       "3   234788259  10/11/2021  263.0  ARSON 2,3,4  114.0       ARSON  PL 1501001   \n",
       "4   234188790   9/28/2021  578.0          NaN    NaN         NaN  PL 2223001   \n",
       "\n",
       "  LAW_CAT_CD ARREST_BORO  ARREST_PRECINCT  JURISDICTION_CODE AGE_GROUP  \\\n",
       "0          F           Q              105                 97     18-24   \n",
       "1          F           K               69                 71     25-44   \n",
       "2          F           K               61                  0     25-44   \n",
       "3          F           B               42                 71     18-24   \n",
       "4          M           B               44                  0     25-44   \n",
       "\n",
       "  PERP_SEX PERP_RACE  X_COORD_CD  Y_COORD_CD   Latitude  Longitude  \\\n",
       "0        M     BLACK     1057636      203954  40.726187 -73.735234   \n",
       "1        M     BLACK     1014340      171320  40.636868 -73.891586   \n",
       "2        M     WHITE      995244      155739  40.594145 -73.960415   \n",
       "3        M     BLACK     1009058      239616  40.824340 -73.910365   \n",
       "4        M     BLACK     1005169      246667  40.843703 -73.924395   \n",
       "\n",
       "                       New Georeferenced Column  \n",
       "0  POINT (-73.73523390399998 40.72618713000002)  \n",
       "1  POINT (-73.89158591899997 40.63686750900007)  \n",
       "2  POINT (-73.96041495199995 40.59414516900005)  \n",
       "3  POINT (-73.91036538099996 40.82433953100008)  \n",
       "4  POINT (-73.92439508899997 40.84370255600004)  "
      ]
     },
     "execution_count": 4,
     "metadata": {},
     "output_type": "execute_result"
    }
   ],
   "source": [
    "df.head ()"
   ]
  },
  {
   "cell_type": "code",
   "execution_count": 5,
   "metadata": {},
   "outputs": [
    {
     "data": {
      "text/plain": [
       "Index(['ARREST_KEY', 'ARREST_DATE', 'PD_CD', 'PD_DESC', 'KY_CD', 'OFNS_DESC',\n",
       "       'LAW_CODE', 'LAW_CAT_CD', 'ARREST_BORO', 'ARREST_PRECINCT',\n",
       "       'JURISDICTION_CODE', 'AGE_GROUP', 'PERP_SEX', 'PERP_RACE', 'X_COORD_CD',\n",
       "       'Y_COORD_CD', 'Latitude', 'Longitude', 'New Georeferenced Column'],\n",
       "      dtype='object')"
      ]
     },
     "execution_count": 5,
     "metadata": {},
     "output_type": "execute_result"
    }
   ],
   "source": [
    "df.columns"
   ]
  },
  {
   "cell_type": "code",
   "execution_count": 6,
   "metadata": {},
   "outputs": [
    {
     "name": "stdout",
     "output_type": "stream",
     "text": [
      "<class 'pandas.core.frame.DataFrame'>\n",
      "RangeIndex: 155507 entries, 0 to 155506\n",
      "Data columns (total 19 columns):\n",
      " #   Column                    Non-Null Count   Dtype  \n",
      "---  ------                    --------------   -----  \n",
      " 0   ARREST_KEY                155507 non-null  int64  \n",
      " 1   ARREST_DATE               155507 non-null  object \n",
      " 2   PD_CD                     155478 non-null  float64\n",
      " 3   PD_DESC                   155404 non-null  object \n",
      " 4   KY_CD                     155404 non-null  float64\n",
      " 5   OFNS_DESC                 155404 non-null  object \n",
      " 6   LAW_CODE                  155507 non-null  object \n",
      " 7   LAW_CAT_CD                154114 non-null  object \n",
      " 8   ARREST_BORO               155507 non-null  object \n",
      " 9   ARREST_PRECINCT           155507 non-null  int64  \n",
      " 10  JURISDICTION_CODE         155507 non-null  int64  \n",
      " 11  AGE_GROUP                 155507 non-null  object \n",
      " 12  PERP_SEX                  155507 non-null  object \n",
      " 13  PERP_RACE                 155507 non-null  object \n",
      " 14  X_COORD_CD                155507 non-null  int64  \n",
      " 15  Y_COORD_CD                155507 non-null  int64  \n",
      " 16  Latitude                  155507 non-null  float64\n",
      " 17  Longitude                 155507 non-null  float64\n",
      " 18  New Georeferenced Column  155507 non-null  object \n",
      "dtypes: float64(4), int64(5), object(10)\n",
      "memory usage: 22.5+ MB\n"
     ]
    }
   ],
   "source": [
    "df.info ()"
   ]
  },
  {
   "cell_type": "code",
   "execution_count": 11,
   "metadata": {},
   "outputs": [],
   "source": [
    "# change arrest_boro abbreviation to long form\n",
    "boro_dict = {\n",
    "    'B': 'Bronx',\n",
    "    'S': 'Staten Island',\n",
    "    'K': 'Brooklyn',\n",
    "    'M': 'Manhattan',\n",
    "    'Q': 'Queens',\n",
    "}\n",
    "df['ARREST_BORO'] = df.ARREST_BORO.replace(boro_dict)\n",
    "\n",
    "# change perp_sex abbreviation to long form\n",
    "perp_sex_dict = {\n",
    "    'F': 'Female',\n",
    "    'M': 'Male',\n",
    "}\n",
    "df['PERP_SEX'] = df.PERP_SEX.replace(perp_sex_dict)\n",
    "\n",
    "# change law_cat_cd abbreviation to long form\n",
    "law_cat_cd_dict = {\n",
    "    'F': 'Felony',\n",
    "    'M': 'Misdemeanor',\n",
    "    'V': 'Violation',\n",
    "    'I': 'Traffic Infraction',\n",
    "}\n",
    "df['LAW_CAT_CD'] = df['LAW_CAT_CD'].replace(law_cat_cd_dict)"
   ]
  },
  {
   "cell_type": "code",
   "execution_count": 12,
   "metadata": {},
   "outputs": [
    {
     "data": {
      "text/html": [
       "<div>\n",
       "<style scoped>\n",
       "    .dataframe tbody tr th:only-of-type {\n",
       "        vertical-align: middle;\n",
       "    }\n",
       "\n",
       "    .dataframe tbody tr th {\n",
       "        vertical-align: top;\n",
       "    }\n",
       "\n",
       "    .dataframe thead th {\n",
       "        text-align: right;\n",
       "    }\n",
       "</style>\n",
       "<table border=\"1\" class=\"dataframe\">\n",
       "  <thead>\n",
       "    <tr style=\"text-align: right;\">\n",
       "      <th></th>\n",
       "      <th>ARREST_KEY</th>\n",
       "      <th>ARREST_DATE</th>\n",
       "      <th>PD_CD</th>\n",
       "      <th>PD_DESC</th>\n",
       "      <th>KY_CD</th>\n",
       "      <th>OFNS_DESC</th>\n",
       "      <th>LAW_CODE</th>\n",
       "      <th>LAW_CAT_CD</th>\n",
       "      <th>ARREST_BORO</th>\n",
       "      <th>ARREST_PRECINCT</th>\n",
       "      <th>JURISDICTION_CODE</th>\n",
       "      <th>AGE_GROUP</th>\n",
       "      <th>PERP_SEX</th>\n",
       "      <th>PERP_RACE</th>\n",
       "      <th>X_COORD_CD</th>\n",
       "      <th>Y_COORD_CD</th>\n",
       "      <th>Latitude</th>\n",
       "      <th>Longitude</th>\n",
       "      <th>New Georeferenced Column</th>\n",
       "    </tr>\n",
       "  </thead>\n",
       "  <tbody>\n",
       "    <tr>\n",
       "      <th>0</th>\n",
       "      <td>238013474</td>\n",
       "      <td>12/18/2021</td>\n",
       "      <td>157.0</td>\n",
       "      <td>RAPE 1</td>\n",
       "      <td>104.0</td>\n",
       "      <td>RAPE</td>\n",
       "      <td>PL 1303501</td>\n",
       "      <td>Felony</td>\n",
       "      <td>Queens</td>\n",
       "      <td>105</td>\n",
       "      <td>97</td>\n",
       "      <td>18-24</td>\n",
       "      <td>Male</td>\n",
       "      <td>BLACK</td>\n",
       "      <td>1057636</td>\n",
       "      <td>203954</td>\n",
       "      <td>40.726187</td>\n",
       "      <td>-73.735234</td>\n",
       "      <td>POINT (-73.73523390399998 40.72618713000002)</td>\n",
       "    </tr>\n",
       "    <tr>\n",
       "      <th>1</th>\n",
       "      <td>236943583</td>\n",
       "      <td>11/25/2021</td>\n",
       "      <td>263.0</td>\n",
       "      <td>ARSON 2,3,4</td>\n",
       "      <td>114.0</td>\n",
       "      <td>ARSON</td>\n",
       "      <td>PL 1501500</td>\n",
       "      <td>Felony</td>\n",
       "      <td>Brooklyn</td>\n",
       "      <td>69</td>\n",
       "      <td>71</td>\n",
       "      <td>25-44</td>\n",
       "      <td>Male</td>\n",
       "      <td>BLACK</td>\n",
       "      <td>1014340</td>\n",
       "      <td>171320</td>\n",
       "      <td>40.636868</td>\n",
       "      <td>-73.891586</td>\n",
       "      <td>POINT (-73.89158591899997 40.63686750900007)</td>\n",
       "    </tr>\n",
       "    <tr>\n",
       "      <th>2</th>\n",
       "      <td>234938876</td>\n",
       "      <td>10/14/2021</td>\n",
       "      <td>594.0</td>\n",
       "      <td>OBSCENITY 1</td>\n",
       "      <td>116.0</td>\n",
       "      <td>SEX CRIMES</td>\n",
       "      <td>PL 2631100</td>\n",
       "      <td>Felony</td>\n",
       "      <td>Brooklyn</td>\n",
       "      <td>61</td>\n",
       "      <td>0</td>\n",
       "      <td>25-44</td>\n",
       "      <td>Male</td>\n",
       "      <td>WHITE</td>\n",
       "      <td>995244</td>\n",
       "      <td>155739</td>\n",
       "      <td>40.594145</td>\n",
       "      <td>-73.960415</td>\n",
       "      <td>POINT (-73.96041495199995 40.59414516900005)</td>\n",
       "    </tr>\n",
       "    <tr>\n",
       "      <th>3</th>\n",
       "      <td>234788259</td>\n",
       "      <td>10/11/2021</td>\n",
       "      <td>263.0</td>\n",
       "      <td>ARSON 2,3,4</td>\n",
       "      <td>114.0</td>\n",
       "      <td>ARSON</td>\n",
       "      <td>PL 1501001</td>\n",
       "      <td>Felony</td>\n",
       "      <td>Bronx</td>\n",
       "      <td>42</td>\n",
       "      <td>71</td>\n",
       "      <td>18-24</td>\n",
       "      <td>Male</td>\n",
       "      <td>BLACK</td>\n",
       "      <td>1009058</td>\n",
       "      <td>239616</td>\n",
       "      <td>40.824340</td>\n",
       "      <td>-73.910365</td>\n",
       "      <td>POINT (-73.91036538099996 40.82433953100008)</td>\n",
       "    </tr>\n",
       "    <tr>\n",
       "      <th>4</th>\n",
       "      <td>234188790</td>\n",
       "      <td>9/28/2021</td>\n",
       "      <td>578.0</td>\n",
       "      <td>NaN</td>\n",
       "      <td>NaN</td>\n",
       "      <td>NaN</td>\n",
       "      <td>PL 2223001</td>\n",
       "      <td>Misdemeanor</td>\n",
       "      <td>Bronx</td>\n",
       "      <td>44</td>\n",
       "      <td>0</td>\n",
       "      <td>25-44</td>\n",
       "      <td>Male</td>\n",
       "      <td>BLACK</td>\n",
       "      <td>1005169</td>\n",
       "      <td>246667</td>\n",
       "      <td>40.843703</td>\n",
       "      <td>-73.924395</td>\n",
       "      <td>POINT (-73.92439508899997 40.84370255600004)</td>\n",
       "    </tr>\n",
       "    <tr>\n",
       "      <th>...</th>\n",
       "      <td>...</td>\n",
       "      <td>...</td>\n",
       "      <td>...</td>\n",
       "      <td>...</td>\n",
       "      <td>...</td>\n",
       "      <td>...</td>\n",
       "      <td>...</td>\n",
       "      <td>...</td>\n",
       "      <td>...</td>\n",
       "      <td>...</td>\n",
       "      <td>...</td>\n",
       "      <td>...</td>\n",
       "      <td>...</td>\n",
       "      <td>...</td>\n",
       "      <td>...</td>\n",
       "      <td>...</td>\n",
       "      <td>...</td>\n",
       "      <td>...</td>\n",
       "      <td>...</td>\n",
       "    </tr>\n",
       "    <tr>\n",
       "      <th>155502</th>\n",
       "      <td>222884924</td>\n",
       "      <td>1/10/2021</td>\n",
       "      <td>397.0</td>\n",
       "      <td>ROBBERY,OPEN AREA UNCLASSIFIED</td>\n",
       "      <td>105.0</td>\n",
       "      <td>ROBBERY</td>\n",
       "      <td>PL 1601001</td>\n",
       "      <td>Felony</td>\n",
       "      <td>Bronx</td>\n",
       "      <td>46</td>\n",
       "      <td>0</td>\n",
       "      <td>45-64</td>\n",
       "      <td>Male</td>\n",
       "      <td>BLACK</td>\n",
       "      <td>1011432</td>\n",
       "      <td>247605</td>\n",
       "      <td>40.846260</td>\n",
       "      <td>-73.901755</td>\n",
       "      <td>POINT (-73.90175529499999 40.846260031000035)</td>\n",
       "    </tr>\n",
       "    <tr>\n",
       "      <th>155503</th>\n",
       "      <td>223918625</td>\n",
       "      <td>2/3/2021</td>\n",
       "      <td>792.0</td>\n",
       "      <td>WEAPONS POSSESSION 1 &amp; 2</td>\n",
       "      <td>118.0</td>\n",
       "      <td>DANGEROUS WEAPONS</td>\n",
       "      <td>PL 2650303</td>\n",
       "      <td>Felony</td>\n",
       "      <td>Brooklyn</td>\n",
       "      <td>67</td>\n",
       "      <td>0</td>\n",
       "      <td>18-24</td>\n",
       "      <td>Male</td>\n",
       "      <td>BLACK</td>\n",
       "      <td>1004940</td>\n",
       "      <td>180941</td>\n",
       "      <td>40.663302</td>\n",
       "      <td>-73.925425</td>\n",
       "      <td>POINT (-73.92542497899994 40.66330200400005)</td>\n",
       "    </tr>\n",
       "    <tr>\n",
       "      <th>155504</th>\n",
       "      <td>224323770</td>\n",
       "      <td>2/13/2021</td>\n",
       "      <td>101.0</td>\n",
       "      <td>ASSAULT 3</td>\n",
       "      <td>344.0</td>\n",
       "      <td>ASSAULT 3 &amp; RELATED OFFENSES</td>\n",
       "      <td>PL 1200001</td>\n",
       "      <td>Misdemeanor</td>\n",
       "      <td>Staten Island</td>\n",
       "      <td>121</td>\n",
       "      <td>0</td>\n",
       "      <td>45-64</td>\n",
       "      <td>Male</td>\n",
       "      <td>BLACK</td>\n",
       "      <td>942825</td>\n",
       "      <td>166367</td>\n",
       "      <td>40.623227</td>\n",
       "      <td>-74.149227</td>\n",
       "      <td>POINT (-74.14922697299994 40.623226819000074)</td>\n",
       "    </tr>\n",
       "    <tr>\n",
       "      <th>155505</th>\n",
       "      <td>222599533</td>\n",
       "      <td>1/4/2021</td>\n",
       "      <td>792.0</td>\n",
       "      <td>WEAPONS POSSESSION 1 &amp; 2</td>\n",
       "      <td>118.0</td>\n",
       "      <td>DANGEROUS WEAPONS</td>\n",
       "      <td>PL 2650303</td>\n",
       "      <td>Felony</td>\n",
       "      <td>Brooklyn</td>\n",
       "      <td>73</td>\n",
       "      <td>0</td>\n",
       "      <td>25-44</td>\n",
       "      <td>Male</td>\n",
       "      <td>BLACK</td>\n",
       "      <td>1007524</td>\n",
       "      <td>188555</td>\n",
       "      <td>40.684194</td>\n",
       "      <td>-73.916085</td>\n",
       "      <td>POINT (-73.91608474599997 40.684194302000044)</td>\n",
       "    </tr>\n",
       "    <tr>\n",
       "      <th>155506</th>\n",
       "      <td>224056881</td>\n",
       "      <td>2/6/2021</td>\n",
       "      <td>268.0</td>\n",
       "      <td>CRIMINAL MIS 2 &amp; 3</td>\n",
       "      <td>121.0</td>\n",
       "      <td>CRIMINAL MISCHIEF &amp; RELATED OF</td>\n",
       "      <td>PL 1451000</td>\n",
       "      <td>Felony</td>\n",
       "      <td>Queens</td>\n",
       "      <td>102</td>\n",
       "      <td>0</td>\n",
       "      <td>18-24</td>\n",
       "      <td>Male</td>\n",
       "      <td>ASIAN / PACIFIC ISLANDER</td>\n",
       "      <td>1031414</td>\n",
       "      <td>190787</td>\n",
       "      <td>40.690226</td>\n",
       "      <td>-73.829932</td>\n",
       "      <td>POINT (-73.82993153599993 40.69022556600004)</td>\n",
       "    </tr>\n",
       "  </tbody>\n",
       "</table>\n",
       "<p>155507 rows × 19 columns</p>\n",
       "</div>"
      ],
      "text/plain": [
       "        ARREST_KEY ARREST_DATE  PD_CD                         PD_DESC  KY_CD  \\\n",
       "0        238013474  12/18/2021  157.0                          RAPE 1  104.0   \n",
       "1        236943583  11/25/2021  263.0                     ARSON 2,3,4  114.0   \n",
       "2        234938876  10/14/2021  594.0                     OBSCENITY 1  116.0   \n",
       "3        234788259  10/11/2021  263.0                     ARSON 2,3,4  114.0   \n",
       "4        234188790   9/28/2021  578.0                             NaN    NaN   \n",
       "...            ...         ...    ...                             ...    ...   \n",
       "155502   222884924   1/10/2021  397.0  ROBBERY,OPEN AREA UNCLASSIFIED  105.0   \n",
       "155503   223918625    2/3/2021  792.0        WEAPONS POSSESSION 1 & 2  118.0   \n",
       "155504   224323770   2/13/2021  101.0                       ASSAULT 3  344.0   \n",
       "155505   222599533    1/4/2021  792.0        WEAPONS POSSESSION 1 & 2  118.0   \n",
       "155506   224056881    2/6/2021  268.0              CRIMINAL MIS 2 & 3  121.0   \n",
       "\n",
       "                             OFNS_DESC    LAW_CODE   LAW_CAT_CD  \\\n",
       "0                                 RAPE  PL 1303501       Felony   \n",
       "1                                ARSON  PL 1501500       Felony   \n",
       "2                           SEX CRIMES  PL 2631100       Felony   \n",
       "3                                ARSON  PL 1501001       Felony   \n",
       "4                                  NaN  PL 2223001  Misdemeanor   \n",
       "...                                ...         ...          ...   \n",
       "155502                         ROBBERY  PL 1601001       Felony   \n",
       "155503               DANGEROUS WEAPONS  PL 2650303       Felony   \n",
       "155504    ASSAULT 3 & RELATED OFFENSES  PL 1200001  Misdemeanor   \n",
       "155505               DANGEROUS WEAPONS  PL 2650303       Felony   \n",
       "155506  CRIMINAL MISCHIEF & RELATED OF  PL 1451000       Felony   \n",
       "\n",
       "          ARREST_BORO  ARREST_PRECINCT  JURISDICTION_CODE AGE_GROUP PERP_SEX  \\\n",
       "0              Queens              105                 97     18-24     Male   \n",
       "1            Brooklyn               69                 71     25-44     Male   \n",
       "2            Brooklyn               61                  0     25-44     Male   \n",
       "3               Bronx               42                 71     18-24     Male   \n",
       "4               Bronx               44                  0     25-44     Male   \n",
       "...               ...              ...                ...       ...      ...   \n",
       "155502          Bronx               46                  0     45-64     Male   \n",
       "155503       Brooklyn               67                  0     18-24     Male   \n",
       "155504  Staten Island              121                  0     45-64     Male   \n",
       "155505       Brooklyn               73                  0     25-44     Male   \n",
       "155506         Queens              102                  0     18-24     Male   \n",
       "\n",
       "                       PERP_RACE  X_COORD_CD  Y_COORD_CD   Latitude  \\\n",
       "0                          BLACK     1057636      203954  40.726187   \n",
       "1                          BLACK     1014340      171320  40.636868   \n",
       "2                          WHITE      995244      155739  40.594145   \n",
       "3                          BLACK     1009058      239616  40.824340   \n",
       "4                          BLACK     1005169      246667  40.843703   \n",
       "...                          ...         ...         ...        ...   \n",
       "155502                     BLACK     1011432      247605  40.846260   \n",
       "155503                     BLACK     1004940      180941  40.663302   \n",
       "155504                     BLACK      942825      166367  40.623227   \n",
       "155505                     BLACK     1007524      188555  40.684194   \n",
       "155506  ASIAN / PACIFIC ISLANDER     1031414      190787  40.690226   \n",
       "\n",
       "        Longitude                       New Georeferenced Column  \n",
       "0      -73.735234   POINT (-73.73523390399998 40.72618713000002)  \n",
       "1      -73.891586   POINT (-73.89158591899997 40.63686750900007)  \n",
       "2      -73.960415   POINT (-73.96041495199995 40.59414516900005)  \n",
       "3      -73.910365   POINT (-73.91036538099996 40.82433953100008)  \n",
       "4      -73.924395   POINT (-73.92439508899997 40.84370255600004)  \n",
       "...           ...                                            ...  \n",
       "155502 -73.901755  POINT (-73.90175529499999 40.846260031000035)  \n",
       "155503 -73.925425   POINT (-73.92542497899994 40.66330200400005)  \n",
       "155504 -74.149227  POINT (-74.14922697299994 40.623226819000074)  \n",
       "155505 -73.916085  POINT (-73.91608474599997 40.684194302000044)  \n",
       "155506 -73.829932   POINT (-73.82993153599993 40.69022556600004)  \n",
       "\n",
       "[155507 rows x 19 columns]"
      ]
     },
     "execution_count": 12,
     "metadata": {},
     "output_type": "execute_result"
    }
   ],
   "source": [
    "#displaying the dataset\n",
    "df"
   ]
  },
  {
   "cell_type": "code",
   "execution_count": 14,
   "metadata": {},
   "outputs": [],
   "source": [
    "# Dropping all columns not useful from my dataset.\n",
    "df=df.drop(df.columns[[14,15,16,17,18]],axis=1)"
   ]
  },
  {
   "cell_type": "code",
   "execution_count": 50,
   "metadata": {},
   "outputs": [
    {
     "data": {
      "text/plain": [
       "Index(['ARREST_KEY', 'ARREST_DATE', 'PD_CD', 'PD_DESC', 'KY_CD', 'OFNS_DESC',\n",
       "       'LAW_CODE', 'LAW_CAT_CD', 'ARREST_BORO', 'ARREST_PRECINCT',\n",
       "       'JURISDICTION_CODE', 'AGE_GROUP', 'PERP_SEX', 'PERP_RACE', 'Year',\n",
       "       'Month', 'Day'],\n",
       "      dtype='object')"
      ]
     },
     "execution_count": 50,
     "metadata": {},
     "output_type": "execute_result"
    }
   ],
   "source": [
    "#Get a list of the columns left in the dataset\n",
    "df.columns"
   ]
  },
  {
   "cell_type": "code",
   "execution_count": 51,
   "metadata": {},
   "outputs": [],
   "source": [
    "#Grouping and counting crimes by type\n",
    "crimes_by_type = df.OFNS_DESC.value_counts().sort_values(ascending = False)[:20]"
   ]
  },
  {
   "cell_type": "code",
   "execution_count": 52,
   "metadata": {},
   "outputs": [
    {
     "data": {
      "text/plain": [
       "ASSAULT 3 & RELATED OFFENSES      26855\n",
       "FELONY ASSAULT                    15579\n",
       "PETIT LARCENY                     13178\n",
       "DANGEROUS DRUGS                   10450\n",
       "MISCELLANEOUS PENAL LAW           10328\n",
       "CRIMINAL MISCHIEF & RELATED OF     9294\n",
       "ROBBERY                            7848\n",
       "DANGEROUS WEAPONS                  7206\n",
       "GRAND LARCENY                      6671\n",
       "VEHICLE AND TRAFFIC LAWS           5264\n",
       "BURGLARY                           4895\n",
       "OFFENSES AGAINST PUBLIC ADMINI     4682\n",
       "OFFENSES INVOLVING FRAUD           3832\n",
       "SEX CRIMES                         3586\n",
       "OFF. AGNST PUB ORD SENSBLTY &      3345\n",
       "FORGERY                            3127\n",
       "INTOXICATED & IMPAIRED DRIVING     2334\n",
       "POSSESSION OF STOLEN PROPERTY      1858\n",
       "OTHER TRAFFIC INFRACTION           1632\n",
       "MURDER & NON-NEGL. MANSLAUGHTE     1513\n",
       "Name: OFNS_DESC, dtype: int64"
      ]
     },
     "execution_count": 52,
     "metadata": {},
     "output_type": "execute_result"
    }
   ],
   "source": [
    "#displaying the crimes by type dataset\n",
    "crimes_by_type"
   ]
  },
  {
   "cell_type": "code",
   "execution_count": 55,
   "metadata": {},
   "outputs": [
    {
     "data": {
      "text/plain": [
       "Text(0, 0.5, 'Number of Arrests')"
      ]
     },
     "execution_count": 55,
     "metadata": {},
     "output_type": "execute_result"
    },
    {
     "data": {
      "image/png": "[encoded data removed]",
      "text/plain": [
       "<Figure size 4320x1080 with 1 Axes>"
      ]
     },
     "metadata": {
      "needs_background": "light"
     },
     "output_type": "display_data"
    }
   ],
   "source": [
    "#Bar graph shouwing the crime counts by type - Majoriy of the crimes are assaults\n",
    "plt.figure(figsize=(60,15))\n",
    "sns.barplot(x=crimes_by_type.index, y = crimes_by_type )\n",
    "plt.title(\"Crime by Type\")\n",
    "plt.xlabel(\"crime Type\")\n",
    "plt.ylabel(\"Number of Arrests\")"
   ]
  },
  {
   "cell_type": "code",
   "execution_count": 60,
   "metadata": {},
   "outputs": [],
   "source": [
    "#Groupoing and Counting crimes by category\n",
    "crimes_by_category = df.LAW_CAT_CD.value_counts().sort_values(ascending = False)[:10]"
   ]
  },
  {
   "cell_type": "code",
   "execution_count": 61,
   "metadata": {},
   "outputs": [
    {
     "data": {
      "text/plain": [
       "Misdemeanor           82632\n",
       "Felony                70867\n",
       "Violation               385\n",
       "Traffic Infraction      230\n",
       "Name: LAW_CAT_CD, dtype: int64"
      ]
     },
     "execution_count": 61,
     "metadata": {},
     "output_type": "execute_result"
    }
   ],
   "source": [
    "#displaying the crimes by category dataset\n",
    "crimes_by_category"
   ]
  },
  {
   "cell_type": "code",
   "execution_count": 66,
   "metadata": {},
   "outputs": [
    {
     "data": {
      "text/plain": [
       "Text(0, 0.5, 'Number of Arrests')"
      ]
     },
     "execution_count": 66,
     "metadata": {},
     "output_type": "execute_result"
    },
    {
     "data": {
      "image/png": "[encoded data removed]",
      "text/plain": [
       "<Figure size 576x576 with 1 Axes>"
      ]
     },
     "metadata": {
      "needs_background": "light"
     },
     "output_type": "display_data"
    }
   ],
   "source": [
    "#Bar graph shouwing the crime counts by category - Majority of the crimes are misdemeanors followed by felonies\n",
    "plt.figure(figsize=(8,8))\n",
    "sns.barplot(x=crimes_by_category.index, y = crimes_by_category )\n",
    "plt.title(\"Crime by Category\")\n",
    "plt.xlabel(\"crime Category\")\n",
    "plt.ylabel(\"Number of Arrests\")"
   ]
  },
  {
   "cell_type": "code",
   "execution_count": 16,
   "metadata": {},
   "outputs": [],
   "source": [
    "#Counting crimes by age group\n",
    "crimes_by_age = df.AGE_GROUP.value_counts().sort_values(ascending = False)[:5]"
   ]
  },
  {
   "cell_type": "code",
   "execution_count": 17,
   "metadata": {},
   "outputs": [
    {
     "data": {
      "text/plain": [
       "25-44    88850\n",
       "45-64    30608\n",
       "18-24    28951\n",
       "<18       4800\n",
       "65+       2298\n",
       "Name: AGE_GROUP, dtype: int64"
      ]
     },
     "execution_count": 17,
     "metadata": {},
     "output_type": "execute_result"
    }
   ],
   "source": [
    "#displaying the crimes by age dataset\n",
    "crimes_by_age[:]"
   ]
  },
  {
   "cell_type": "code",
   "execution_count": 18,
   "metadata": {},
   "outputs": [
    {
     "data": {
      "text/plain": [
       "Text(0, 0.5, 'Number of Arrests')"
      ]
     },
     "execution_count": 18,
     "metadata": {},
     "output_type": "execute_result"
    },
    {
     "data": {
      "image/png": "[encoded data removed]",
      "text/plain": [
       "<Figure size 720x576 with 1 Axes>"
      ]
     },
     "metadata": {
      "needs_background": "light"
     },
     "output_type": "display_data"
    }
   ],
   "source": [
    "#Bar graph shouwing the crime counts by age group - The age group committing the most crimes was 25-44 and least was less than 18 or over 65\n",
    "plt.figure(figsize=(10,8))\n",
    "sns.barplot(x=crimes_by_age.index, y = crimes_by_age )\n",
    "plt.title(\"Crime by Age Group\")\n",
    "plt.xlabel(\"Age group\")\n",
    "plt.ylabel(\"Number of Arrests\")"
   ]
  },
  {
   "cell_type": "code",
   "execution_count": 20,
   "metadata": {},
   "outputs": [],
   "source": [
    "#Grouping and counting crimes by borough\n",
    "crimes_by_city = df.ARREST_BORO.value_counts().sort_values(ascending = False)[:10]"
   ]
  },
  {
   "cell_type": "code",
   "execution_count": 21,
   "metadata": {},
   "outputs": [
    {
     "data": {
      "text/plain": [
       "Brooklyn         41550\n",
       "Manhattan        39677\n",
       "Bronx            34018\n",
       "Queens           33051\n",
       "Staten Island     7211\n",
       "Name: ARREST_BORO, dtype: int64"
      ]
     },
     "execution_count": 21,
     "metadata": {},
     "output_type": "execute_result"
    }
   ],
   "source": [
    "#displaying the crimes by city (borough) counts \n",
    "crimes_by_city[:]"
   ]
  },
  {
   "cell_type": "code",
   "execution_count": 22,
   "metadata": {},
   "outputs": [
    {
     "data": {
      "text/plain": [
       "Text(0, 0.5, 'Number of Arrests')"
      ]
     },
     "execution_count": 22,
     "metadata": {},
     "output_type": "execute_result"
    },
    {
     "data": {
      "image/png": "[encoded data removed]",
      "text/plain": [
       "<Figure size 1080x720 with 1 Axes>"
      ]
     },
     "metadata": {
      "needs_background": "light"
     },
     "output_type": "display_data"
    }
   ],
   "source": [
    "#Bar graph shouwing the crime counts by borough -Brookly had the most crimes committed and Staten Island the least\n",
    "plt.figure(figsize=(15,10))\n",
    "sns.barplot(x=crimes_by_city.index, y = crimes_by_city )\n",
    "plt.title(\"Crime by City\")\n",
    "plt.xlabel(\"ARREST_BORO\")\n",
    "plt.ylabel(\"Number of Arrests\")"
   ]
  },
  {
   "cell_type": "code",
   "execution_count": 23,
   "metadata": {},
   "outputs": [],
   "source": [
    "df['Year'] = df.ARREST_DATE.apply(lambda x:np.int(x.split(\"/\")[-1]))"
   ]
  },
  {
   "cell_type": "code",
   "execution_count": 24,
   "metadata": {},
   "outputs": [],
   "source": [
    "df['Month'] = df.ARREST_DATE.apply(lambda x:np.int(x.split(\"/\")[0]))"
   ]
  },
  {
   "cell_type": "code",
   "execution_count": 25,
   "metadata": {},
   "outputs": [],
   "source": [
    "df['Day'] = df.ARREST_DATE.apply(lambda x:np.int(x.split(\"/\")[1]))"
   ]
  },
  {
   "cell_type": "code",
   "execution_count": 28,
   "metadata": {},
   "outputs": [],
   "source": [
    "#Grouping and counting crimes by month\n",
    "crimes_by_month = df.Month.value_counts()"
   ]
  },
  {
   "cell_type": "code",
   "execution_count": 29,
   "metadata": {},
   "outputs": [
    {
     "data": {
      "text/plain": [
       "10    14453\n",
       "3     13980\n",
       "9     13756\n",
       "8     13745\n",
       "7     13561\n",
       "1     13506\n",
       "11    13068\n",
       "6     12850\n",
       "12    12689\n",
       "5     11822\n",
       "2     11653\n",
       "4     10424\n",
       "Name: Month, dtype: int64"
      ]
     },
     "execution_count": 29,
     "metadata": {},
     "output_type": "execute_result"
    }
   ],
   "source": [
    "#Displaying crime by month dataset\n",
    "crimes_by_month[:]"
   ]
  },
  {
   "cell_type": "code",
   "execution_count": 71,
   "metadata": {},
   "outputs": [
    {
     "data": {
      "text/plain": [
       "Text(0, 0.5, 'Number of Arrests')"
      ]
     },
     "execution_count": 71,
     "metadata": {},
     "output_type": "execute_result"
    },
    {
     "data": {
      "image/png": "[encoded data removed]",
      "text/plain": [
       "<Figure size 1080x720 with 1 Axes>"
      ]
     },
     "metadata": {
      "needs_background": "light"
     },
     "output_type": "display_data"
    }
   ],
   "source": [
    "#Bar graph shouwing the crime counts by month - More crimes occorred in October than any month of the year and the least crimes occorred in April \n",
    "plt.figure(figsize=(15,10))\n",
    "sns.barplot(x=crimes_by_month.index, y = crimes_by_month,palette='deep' )\n",
    "plt.title(\"Crime by Month\")\n",
    "plt.xlabel(\"Month\")\n",
    "plt.ylabel(\"Number of Arrests\")"
   ]
  },
  {
   "cell_type": "code",
   "execution_count": 33,
   "metadata": {},
   "outputs": [],
   "source": [
    "#Grouping and counting arrest by race\n",
    "arrest_by_race = df.PERP_RACE.value_counts().sort_values()"
   ]
  },
  {
   "cell_type": "code",
   "execution_count": 34,
   "metadata": {},
   "outputs": [
    {
     "data": {
      "text/plain": [
       "AMERICAN INDIAN/ALASKAN NATIVE      443\n",
       "UNKNOWN                             587\n",
       "ASIAN / PACIFIC ISLANDER           8593\n",
       "BLACK HISPANIC                    13576\n",
       "WHITE                             17063\n",
       "WHITE HISPANIC                    38112\n",
       "BLACK                             77133\n",
       "Name: PERP_RACE, dtype: int64"
      ]
     },
     "execution_count": 34,
     "metadata": {},
     "output_type": "execute_result"
    }
   ],
   "source": [
    "#displaying the arrest by race dataset\n",
    "arrest_by_race "
   ]
  },
  {
   "cell_type": "code",
   "execution_count": 36,
   "metadata": {},
   "outputs": [],
   "source": [
    "#Removing the null (other, unknown) value counts\n",
    "arrest_by_race = arrest_by_race[~arrest_by_race.index.isin([\"OTHER\",\"UNKNOWN\"])]"
   ]
  },
  {
   "cell_type": "code",
   "execution_count": 37,
   "metadata": {},
   "outputs": [
    {
     "data": {
      "text/plain": [
       "AMERICAN INDIAN/ALASKAN NATIVE      443\n",
       "ASIAN / PACIFIC ISLANDER           8593\n",
       "BLACK HISPANIC                    13576\n",
       "WHITE                             17063\n",
       "WHITE HISPANIC                    38112\n",
       "BLACK                             77133\n",
       "Name: PERP_RACE, dtype: int64"
      ]
     },
     "execution_count": 37,
     "metadata": {},
     "output_type": "execute_result"
    }
   ],
   "source": [
    "#displaying the arrest by race dataset after removal of unknown - Asians and American Indians/Alaskan committed the least crimes\n",
    "arrest_by_race"
   ]
  },
  {
   "cell_type": "code",
   "execution_count": 38,
   "metadata": {},
   "outputs": [
    {
     "data": {
      "text/plain": [
       "<AxesSubplot:title={'center':'Number of Arrets by Race'}, xlabel='PERP_RACE', ylabel='Race'>"
      ]
     },
     "execution_count": 38,
     "metadata": {},
     "output_type": "execute_result"
    },
    {
     "data": {
      "image/png": "[encoded data removed]",
      "text/plain": [
       "<Figure size 576x576 with 1 Axes>"
      ]
     },
     "metadata": {
      "needs_background": "light"
     },
     "output_type": "display_data"
    }
   ],
   "source": [
    "plt.figure(figsize = (8,8))\n",
    "plt.xlabel(\"Number of Arrests\")\n",
    "plt.title('Number of Arrets by Race')\n",
    "plt.ylabel('Race')\n",
    "sns.barplot(x = arrest_by_race, y = arrest_by_race.index,palette='rocket')"
   ]
  },
  {
   "cell_type": "code",
   "execution_count": 39,
   "metadata": {},
   "outputs": [],
   "source": [
    "#grouping and countinf of arrests by gender\n",
    "arrests_by_sex = df.PERP_SEX.value_counts()"
   ]
  },
  {
   "cell_type": "code",
   "execution_count": 40,
   "metadata": {},
   "outputs": [
    {
     "data": {
      "text/plain": [
       "Male      128910\n",
       "Female     26597\n",
       "Name: PERP_SEX, dtype: int64"
      ]
     },
     "execution_count": 40,
     "metadata": {},
     "output_type": "execute_result"
    }
   ],
   "source": [
    "#displaying the arrest by sex dataset - Men committed the most crimes\n",
    "arrests_by_sex"
   ]
  },
  {
   "cell_type": "code",
   "execution_count": 41,
   "metadata": {},
   "outputs": [
    {
     "data": {
      "text/plain": [
       "Text(0, 0.5, 'Arrests')"
      ]
     },
     "execution_count": 41,
     "metadata": {},
     "output_type": "execute_result"
    },
    {
     "data": {
      "image/png": "[encoded data removed]",
      "text/plain": [
       "<Figure size 288x576 with 1 Axes>"
      ]
     },
     "metadata": {
      "needs_background": "light"
     },
     "output_type": "display_data"
    }
   ],
   "source": [
    "plt.figure(figsize = (4,8))\n",
    "sns.barplot(y = arrests_by_sex, x = arrests_by_sex.index,palette='deep')\n",
    "plt.ylabel(\"Arrests\")"
   ]
  },
  {
   "cell_type": "code",
   "execution_count": null,
   "metadata": {},
   "outputs": [],
   "source": []
  }
 ],
 "metadata": {
  "kernelspec": {
   "display_name": "Python 3",
   "language": "python",
   "name": "python3"
  },
  "language_info": {
   "codemirror_mode": {
    "name": "ipython",
    "version": 3
   },
   "file_extension": ".py",
   "mimetype": "text/x-python",
   "name": "python",
   "nbconvert_exporter": "python",
   "pygments_lexer": "ipython3",
   "version": "3.8.5"
  }
 },
 "nbformat": 4,
 "nbformat_minor": 4
}
